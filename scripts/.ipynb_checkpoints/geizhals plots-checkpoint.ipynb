{
 "cells": [
  {
   "cell_type": "markdown",
   "metadata": {
    "toc": true
   },
   "source": [
    "<h1>Table of Contents<span class=\"tocSkip\"></span></h1>\n",
    "<div class=\"toc\" style=\"margin-top: 1em;\"><ul class=\"toc-item\"></ul></div>"
   ]
  },
  {
   "cell_type": "code",
   "execution_count": 1,
   "metadata": {},
   "outputs": [],
   "source": [
    "import pandas as pd\n",
    "from requests_html import HTMLSession\n",
    "import requests_cache\n",
    "import re\n",
    "import json"
   ]
  },
  {
   "cell_type": "code",
   "execution_count": 2,
   "metadata": {},
   "outputs": [],
   "source": [
    "requests_cache.install_cache('geizhals_cache')  # expire_after=123"
   ]
  },
  {
   "cell_type": "code",
   "execution_count": 3,
   "metadata": {},
   "outputs": [],
   "source": [
    "session = HTMLSession()"
   ]
  },
  {
   "cell_type": "code",
   "execution_count": 4,
   "metadata": {},
   "outputs": [],
   "source": [
    "# todo IDs ala YD1600BBAEBOX\n",
    "products = [\n",
    "    {'name': \"AMD Ryzen Threadripper 1950X, 16x 3.40GHz, boxed ohne Kühler\", 'geizhals_id': 1664849},\n",
    "    {'name': \"AMD Ryzen 7 1700, 8x 3.00GHz, boxed\", 'geizhals_id': 1582201},\n",
    "    {'name': \"AMD Ryzen 5 1600, 6x 3.20GHz, boxed\", 'geizhals_id': 1604879},\n",
    "    {'name': \"AMD Ryzen 5 1600X, 6x 3.60GHz, boxed ohne Kühler\", 'id': 1604881},\n",
    "    {'name': \"Intel Core i5-3570, 4x 3.40GHz, tray\", 'geizhals_id': 786386},\n",
    "    {'name': \"Intel Core i7-7700K, 4x 4.20GHz, boxed ohne Kühler\", 'geizhals_id': 1551097},\n",
    "    {'name': \"Intel Core i5-7600K, 4x 3.80GHz, boxed ohne Kühler\", 'geizhals_id': 1551201},\n",
    "    {'name': \"Intel Core i5-6600K, 4x 3.50GHz, boxed ohne Kühler\", 'geizhals_id': 1290376},\n",
    "    {'name': \"Intel Core i5-6500, 4x 3.20GHz, boxed\", 'geizhals_id': 1290386},\n",
    "]"
   ]
  },
  {
   "cell_type": "code",
   "execution_count": 5,
   "metadata": {},
   "outputs": [],
   "source": [
    "def extract_prices(html):\n",
    "    \"\"\"extracts the list of timestamps and prices from a geizhals price history page\"\"\"\n",
    "    for script in html.find('script'):\n",
    "        if \"js_plot.render\" in script.text:\n",
    "            #print(script.text)\n",
    "\n",
    "            # extract list of timestamps and prices\n",
    "            m = re.search('\\[\\[.*\\]\\]', script.text)        \n",
    "            prices = json.loads(m.group())\n",
    "    return prices\n",
    "\n",
    "def create_dataframe(timestamped_prices, product_id):\n",
    "    \"\"\"turns a [[unixtimestamp_ms, price], [...]] list into a nice dataframe\"\"\"\n",
    "    # convert list to DataFrame\n",
    "    df = pd.DataFrame.from_records(timestamped_prices, columns=(\"unixtime_ms\", \"price\"))  # http://pbpython.com/pandas-list-dict.html\n",
    "\n",
    "    # convert timestamps to dates\n",
    "    df['date'] = pd.to_datetime(df['unixtime_ms'],unit='ms')\n",
    "    df.drop(columns='unixtime_ms', inplace=True)\n",
    "\n",
    "    # fill id column with product id\n",
    "    df['id'] = product_id\n",
    "\n",
    "    # set date column as index\n",
    "    df.set_index('date', inplace=True)\n",
    "    \n",
    "    return df"
   ]
  },
  {
   "cell_type": "code",
   "execution_count": 6,
   "metadata": {},
   "outputs": [
    {
     "name": "stdout",
     "output_type": "stream",
     "text": [
      "AMD Ryzen Threadripper 1950X, 16x 3.40GHz, boxed ohne Kühler 1664849\n",
      "https://geizhals.de/?phist=1664849&age=9999\n",
      "<Response [200]>\n",
      "AMD Ryzen 7 1700, 8x 3.00GHz, boxed 1582201\n",
      "https://geizhals.de/?phist=1582201&age=9999\n",
      "<Response [200]>\n",
      "AMD Ryzen 5 1600, 6x 3.20GHz, boxed 1604879\n",
      "https://geizhals.de/?phist=1604879&age=9999\n",
      "<Response [200]>\n",
      "AMD Ryzen 5 1600X, 6x 3.60GHz, boxed ohne Kühler 1604881\n",
      "https://geizhals.de/?phist=1604881&age=9999\n",
      "<Response [200]>\n",
      "Intel Core i5-3570, 4x 3.40GHz, tray (CM8063701093103) 786386\n",
      "https://geizhals.de/?phist=786386&age=9999\n",
      "<Response [200]>\n",
      "Intel Core i7-7700K, 4x 4.20GHz, boxed ohne Kühler (BX80677I77700K) 1551097\n",
      "https://geizhals.de/?phist=1551097&age=9999\n",
      "<Response [200]>\n",
      "Intel Core i5-7600K, 4x 3.80GHz, boxed ohne Kühler (BX80677I57600K) 1551201\n",
      "https://geizhals.de/?phist=1551201&age=9999\n",
      "<Response [200]>\n",
      "Intel Core i5-6600K, 4x 3.50GHz, boxed ohne Kühler (BX80662I56600K) 1290376\n",
      "https://geizhals.de/?phist=1290376&age=9999\n",
      "<Response [200]>\n",
      "Intel Core i5-6500, 4x 3.20GHz, boxed (BX80662I56500) 1290386\n",
      "https://geizhals.de/?phist=1290386&age=9999\n",
      "<Response [200]>\n"
     ]
    }
   ],
   "source": [
    "df = pd.DataFrame(columns=('price', 'id'))\n",
    "\n",
    "for product in products:\n",
    "    name, geizhals_id = product.values()\n",
    "    #print(name, geizhals_id)\n",
    "    \n",
    "    url = f\"https://geizhals.de/?phist={geizhals_id}&age=9999\"\n",
    "    #print(url)\n",
    "    \n",
    "    r = session.get(url)\n",
    "    #print(r)\n",
    "    \n",
    "    prices = extract_prices(r.html)\n",
    "    this_df = create_dataframe(prices, geizhals_id)\n",
    "    \n",
    "    df = df.append(this_df)  # why is assignment needed?"
   ]
  },
  {
   "cell_type": "code",
   "execution_count": 7,
   "metadata": {},
   "outputs": [
    {
     "data": {
      "text/html": [
       "<div>\n",
       "<style scoped>\n",
       "    .dataframe tbody tr th:only-of-type {\n",
       "        vertical-align: middle;\n",
       "    }\n",
       "\n",
       "    .dataframe tbody tr th {\n",
       "        vertical-align: top;\n",
       "    }\n",
       "\n",
       "    .dataframe thead th {\n",
       "        text-align: right;\n",
       "    }\n",
       "</style>\n",
       "<table border=\"1\" class=\"dataframe\">\n",
       "  <thead>\n",
       "    <tr style=\"text-align: right;\">\n",
       "      <th></th>\n",
       "      <th>price</th>\n",
       "      <th>id</th>\n",
       "    </tr>\n",
       "  </thead>\n",
       "  <tbody>\n",
       "    <tr>\n",
       "      <th>2017-07-31</th>\n",
       "      <td>1029.93</td>\n",
       "      <td>1664849</td>\n",
       "    </tr>\n",
       "    <tr>\n",
       "      <th>2017-08-01</th>\n",
       "      <td>1039.00</td>\n",
       "      <td>1664849</td>\n",
       "    </tr>\n",
       "    <tr>\n",
       "      <th>2017-08-02</th>\n",
       "      <td>1039.00</td>\n",
       "      <td>1664849</td>\n",
       "    </tr>\n",
       "    <tr>\n",
       "      <th>2017-08-03</th>\n",
       "      <td>1039.00</td>\n",
       "      <td>1664849</td>\n",
       "    </tr>\n",
       "    <tr>\n",
       "      <th>2017-08-04</th>\n",
       "      <td>1039.00</td>\n",
       "      <td>1664849</td>\n",
       "    </tr>\n",
       "  </tbody>\n",
       "</table>\n",
       "</div>"
      ],
      "text/plain": [
       "              price       id\n",
       "2017-07-31  1029.93  1664849\n",
       "2017-08-01  1039.00  1664849\n",
       "2017-08-02  1039.00  1664849\n",
       "2017-08-03  1039.00  1664849\n",
       "2017-08-04  1039.00  1664849"
      ]
     },
     "execution_count": 7,
     "metadata": {},
     "output_type": "execute_result"
    }
   ],
   "source": [
    "df.head()"
   ]
  },
  {
   "cell_type": "code",
   "execution_count": 8,
   "metadata": {},
   "outputs": [],
   "source": [
    "#_ = df['price'].plot()  # http://earthpy.org/pandas-basics.html"
   ]
  },
  {
   "cell_type": "code",
   "execution_count": 9,
   "metadata": {},
   "outputs": [
    {
     "data": {
      "text/html": [
       "<div>\n",
       "<style scoped>\n",
       "    .dataframe tbody tr th:only-of-type {\n",
       "        vertical-align: middle;\n",
       "    }\n",
       "\n",
       "    .dataframe tbody tr th {\n",
       "        vertical-align: top;\n",
       "    }\n",
       "\n",
       "    .dataframe thead th {\n",
       "        text-align: right;\n",
       "    }\n",
       "</style>\n",
       "<table border=\"1\" class=\"dataframe\">\n",
       "  <thead>\n",
       "    <tr style=\"text-align: right;\">\n",
       "      <th>id</th>\n",
       "      <th>786386</th>\n",
       "      <th>1290376</th>\n",
       "      <th>1290386</th>\n",
       "      <th>1551097</th>\n",
       "      <th>1551201</th>\n",
       "      <th>1582201</th>\n",
       "      <th>1604879</th>\n",
       "      <th>1604881</th>\n",
       "      <th>1664849</th>\n",
       "    </tr>\n",
       "  </thead>\n",
       "  <tbody>\n",
       "    <tr>\n",
       "      <th>2018-04-24</th>\n",
       "      <td>191.59</td>\n",
       "      <td>194.17</td>\n",
       "      <td>179.80</td>\n",
       "      <td>271.92</td>\n",
       "      <td>194.78</td>\n",
       "      <td>238.84</td>\n",
       "      <td>146.85</td>\n",
       "      <td>165.66</td>\n",
       "      <td>818.95</td>\n",
       "    </tr>\n",
       "    <tr>\n",
       "      <th>2018-04-25</th>\n",
       "      <td>191.59</td>\n",
       "      <td>193.77</td>\n",
       "      <td>179.80</td>\n",
       "      <td>284.50</td>\n",
       "      <td>194.78</td>\n",
       "      <td>238.45</td>\n",
       "      <td>146.75</td>\n",
       "      <td>165.26</td>\n",
       "      <td>818.95</td>\n",
       "    </tr>\n",
       "    <tr>\n",
       "      <th>2018-04-26</th>\n",
       "      <td>191.59</td>\n",
       "      <td>193.37</td>\n",
       "      <td>179.80</td>\n",
       "      <td>284.65</td>\n",
       "      <td>194.78</td>\n",
       "      <td>238.05</td>\n",
       "      <td>146.55</td>\n",
       "      <td>164.86</td>\n",
       "      <td>818.95</td>\n",
       "    </tr>\n",
       "    <tr>\n",
       "      <th>2018-04-27</th>\n",
       "      <td>191.59</td>\n",
       "      <td>192.98</td>\n",
       "      <td>179.52</td>\n",
       "      <td>284.50</td>\n",
       "      <td>194.78</td>\n",
       "      <td>237.65</td>\n",
       "      <td>146.45</td>\n",
       "      <td>164.47</td>\n",
       "      <td>818.95</td>\n",
       "    </tr>\n",
       "    <tr>\n",
       "      <th>2018-04-28</th>\n",
       "      <td>191.59</td>\n",
       "      <td>192.63</td>\n",
       "      <td>179.52</td>\n",
       "      <td>284.22</td>\n",
       "      <td>194.78</td>\n",
       "      <td>237.37</td>\n",
       "      <td>146.12</td>\n",
       "      <td>164.18</td>\n",
       "      <td>818.95</td>\n",
       "    </tr>\n",
       "  </tbody>\n",
       "</table>\n",
       "</div>"
      ],
      "text/plain": [
       "id          786386   1290376  1290386  1551097  1551201  1582201  1604879  \\\n",
       "2018-04-24   191.59   194.17   179.80   271.92   194.78   238.84   146.85   \n",
       "2018-04-25   191.59   193.77   179.80   284.50   194.78   238.45   146.75   \n",
       "2018-04-26   191.59   193.37   179.80   284.65   194.78   238.05   146.55   \n",
       "2018-04-27   191.59   192.98   179.52   284.50   194.78   237.65   146.45   \n",
       "2018-04-28   191.59   192.63   179.52   284.22   194.78   237.37   146.12   \n",
       "\n",
       "id          1604881  1664849  \n",
       "2018-04-24   165.66   818.95  \n",
       "2018-04-25   165.26   818.95  \n",
       "2018-04-26   164.86   818.95  \n",
       "2018-04-27   164.47   818.95  \n",
       "2018-04-28   164.18   818.95  "
      ]
     },
     "execution_count": 9,
     "metadata": {},
     "output_type": "execute_result"
    }
   ],
   "source": [
    "df_pivot = df.pivot(columns='id', values='price')  # https://stackoverflow.com/questions/40724135/plot-a-time-series-grouped-by-id\n",
    "df_pivot.tail()"
   ]
  },
  {
   "cell_type": "code",
   "execution_count": 12,
   "metadata": {},
   "outputs": [
    {
     "data": {
      "image/png": "[encoded data removed]",
      "text/plain": [
       "<Figure size 432x288 with 1 Axes>"
      ]
     },
     "metadata": {},
     "output_type": "display_data"
    }
   ],
   "source": [
    "ax = df_pivot.plot()"
   ]
  },
  {
   "cell_type": "code",
   "execution_count": 15,
   "metadata": {},
   "outputs": [],
   "source": [
    "import matplotlib.pyplot as plt\n",
    "fig = ax.get_figure()\n",
    "fig.savefig('/tmp/figure.pdf')"
   ]
  },
  {
   "cell_type": "code",
   "execution_count": null,
   "metadata": {},
   "outputs": [],
   "source": [
    "stop..."
   ]
  },
  {
   "cell_type": "code",
   "execution_count": null,
   "metadata": {},
   "outputs": [],
   "source": [
    "from cherrypy.lib import file_generator\n",
    "import StringIO\n",
    "\n",
    "@cherrypy.expose\n",
    "def svg(self, ax):\n",
    "    cherrypy.response.headers['Content-Type'] = \"image/png\"\n",
    "    \n",
    "    buffer = StringIO.StringIO()\n",
    "    fig = ax.get_figure()\n",
    "    fig.savefig(buffer, format='svg')\n",
    "    buffer.seek(0)\n",
    "\n",
    "    return file_generator(buffer)"
   ]
  },
  {
   "cell_type": "code",
   "execution_count": null,
   "metadata": {},
   "outputs": [],
   "source": []
  },
  {
   "cell_type": "code",
   "execution_count": null,
   "metadata": {},
   "outputs": [],
   "source": []
  },
  {
   "cell_type": "code",
   "execution_count": null,
   "metadata": {},
   "outputs": [],
   "source": []
  },
  {
   "cell_type": "code",
   "execution_count": null,
   "metadata": {},
   "outputs": [],
   "source": []
  }
 ],
 "metadata": {
  "hide_input": false,
  "kernelspec": {
   "display_name": "Python 2",
   "language": "python",
   "name": "python2"
  },
  "language_info": {
   "codemirror_mode": {
    "name": "ipython",
    "version": 2
   },
   "file_extension": ".py",
   "mimetype": "text/x-python",
   "name": "python",
   "nbconvert_exporter": "python",
   "pygments_lexer": "ipython2",
   "version": "2.7.14"
  },
  "toc": {
   "nav_menu": {},
   "number_sections": true,
   "sideBar": true,
   "skip_h1_title": true,
   "toc_cell": true,
   "toc_position": {},
   "toc_section_display": "block",
   "toc_window_display": true
  }
 },
 "nbformat": 4,
 "nbformat_minor": 2
}
